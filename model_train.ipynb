{
 "cells": [
  {
   "cell_type": "markdown",
   "metadata": {},
   "source": [
    "# ch4 모델 훈련"
   ]
  },
  {
   "cell_type": "markdown",
   "metadata": {},
   "source": [
    "## 4.1 선형 회귀"
   ]
  },
  {
   "cell_type": "markdown",
   "metadata": {},
   "source": [
    "선형 회귀 모델은 입력 특성의 가중치 합과 편향을 더해 예측을 만든다.\n",
    "\\begin{align}\n",
    "\\hat y = \\theta_0 + \\theta_1 x_1 + \\theta_2 x_2 + ... + \\theta_n x_n\n",
    "\\end{align}\n",
    "\n",
    "*   $hat y$은 예측값이다.\n",
    "*   $n$은 특성의 수다.\n",
    "*   $x_i$는 $i$번째 특성값이다.\n",
    "*   $\\theta_j는 $j$번째 모델 파라미터이다.\n",
    "\n",
    "위 식은 벡터 형태로 더 간단하게 쓸 수 있다.\n",
    "\n",
    "\\begin{align}\n",
    "\\hat y = = h_\\theta(\\textbf{x}) = \\theta^T \\cdot \\textbf{x}\n",
    "\\end{align}\n",
    "\n",
    "*   $\\theta$는 편향 $\\theta_0$ 과 $\\theta_1$에서 $\\theta_n$까지 특성 가중치를 담고 있는 모델 파라미터 벡터\n",
    "*   $\\theta^T$는 $\\theta$의 전치이다 행벡터\n",
    "*   $\\textbf{x}$는 $x_0$에서 $x_n$까지 담고 있는 샘플의 **특성 벡터**이다. $x_0$은 항상 1이다\n",
    "*   $\\theta^T \\cdot \\textbf{x}$는 $\\theta^T$와 $\\textbf{x}$의 점곱(dot product)이다\n",
    "*   $h_\\theta$는 모델 파라미터 $\\theta$를 사용한 가설 함수이다.\n"
   ]
  },
  {
   "cell_type": "markdown",
   "metadata": {},
   "source": [
    "이것이 선형 회귀 모델이다. 이제 모델을 훈련시키자. 모델을 훈련시킨다는 것은 모델이 훈련 세트에 가장 잘 맞도록 모델 파라미터를 설정하는 것이다. 이를 위해 먼저 모델이 훈련 데이터에 얼마나 맞는지 측정해야한다. 회귀에는 평균 제곱근 오차(RMSE)를 잘 사용한다. 즉 RMSE를 최소화하는 $\\theta$를 찾아야 한다. 실제로 RMSE보다 평균 제곱 오차(MSE)를 최소화하는 것이 같은 결과를 내면서 간단하다."
   ]
  },
  {
   "cell_type": "markdown",
   "metadata": {},
   "source": [
    "훈련 세트 $X$에 대한 선형 회귀 가설 $h_\\theta$의 MSE를 계산한다\n",
    "\\begin{align}\n",
    "MSE(X, h_\\theta) = {1 \\over m} \\sum_{i=1}^m(\\theta^T \\cdot x^{(i)} - y^{(i)})^2\n",
    "\\end{align}"
   ]
  },
  {
   "cell_type": "markdown",
   "metadata": {},
   "source": [
    "### 4.1.1 정규방정식"
   ]
  },
  {
   "cell_type": "markdown",
   "metadata": {},
   "source": [
    "비용 함수(cost_function)를 최소화하는 $\\theta$ 값을 찾기 위한 해석적인 방법이 있다. 다른 말로하면 결과를 바로 얻을 수 잇는 수학 공식, 즉 정규방적식이 있다.\n",
    "\\begin{align}\n",
    "\\hat \\theta = (X^T \\cdot X)^{-1} \\cdot X^T \\cdot \\textbf y\n",
    "\\end{align}\n",
    "*   $\\hat \\theta$은 비용 함수를 최소화하는 $\\theta$ 값이다\n",
    "*   $\\textbf y$는 $y^{(1)}$부터 $y^{(n)}$까지 포함하는 타깃 벡터이다"
   ]
  },
  {
   "cell_type": "code",
   "execution_count": 1,
   "metadata": {
    "collapsed": true
   },
   "outputs": [],
   "source": [
    "# 선형처럼 보이는 데이터 생성\n",
    "import numpy as np\n",
    "\n",
    "X = 2 * np.random.rand(100, 1)\n",
    "y = 4 + 3 * X + np.random.randn(100, 1)"
   ]
  },
  {
   "cell_type": "code",
   "execution_count": 3,
   "metadata": {},
   "outputs": [
    {
     "data": {
      "text/plain": [
       "<matplotlib.collections.PathCollection at 0x175feb77ef0>"
      ]
     },
     "execution_count": 3,
     "metadata": {},
     "output_type": "execute_result"
    },
    {
     "data": {
      "image/png": "[encoded data removed]",
      "text/plain": [
       "<Figure size 432x288 with 1 Axes>"
      ]
     },
     "metadata": {},
     "output_type": "display_data"
    }
   ],
   "source": [
    "%matplotlib inline\n",
    "import matplotlib.pyplot as plt\n",
    "plt.scatter(X, y)"
   ]
  },
  {
   "cell_type": "code",
   "execution_count": 4,
   "metadata": {
    "collapsed": true
   },
   "outputs": [],
   "source": [
    "# theta hat 계산\n",
    "X_b = np.c_[np.ones((100, 1)), X] # x0 = 1\n",
    "theta_best = np.linalg.inv(X_b.T.dot(X_b)).dot(X_b.T).dot(y)\n",
    "# SVD를 사용하여 유사 역행렬을 구하는 pinv() 행렬을 사용하면 간단하게 계산가능\n",
    "# theta_best = np.linalg.pinv(X_b).dot(y)"
   ]
  },
  {
   "cell_type": "code",
   "execution_count": 12,
   "metadata": {},
   "outputs": [
    {
     "data": {
      "text/plain": [
       "array([[3.88877303],\n",
       "       [3.07464694]])"
      ]
     },
     "execution_count": 12,
     "metadata": {},
     "output_type": "execute_result"
    }
   ],
   "source": [
    "# 실제 함수는 y = 4 + 3x1 + 가우시안 노이즈 (엡실론)\n",
    "theta_best"
   ]
  },
  {
   "cell_type": "code",
   "execution_count": 17,
   "metadata": {
    "collapsed": true
   },
   "outputs": [],
   "source": [
    "X_new = np.array([[0], [2]])\n",
    "X_new_b = np.c_[np.ones((2, 1)), X_new]"
   ]
  },
  {
   "cell_type": "code",
   "execution_count": 18,
   "metadata": {
    "collapsed": true
   },
   "outputs": [],
   "source": [
    "y_predict = X_new_b.dot(theta_best)"
   ]
  },
  {
   "cell_type": "code",
   "execution_count": 19,
   "metadata": {},
   "outputs": [
    {
     "data": {
      "text/plain": [
       "array([[ 3.88877303],\n",
       "       [10.03806691]])"
      ]
     },
     "execution_count": 19,
     "metadata": {},
     "output_type": "execute_result"
    }
   ],
   "source": [
    "y_predict"
   ]
  },
  {
   "cell_type": "code",
   "execution_count": 20,
   "metadata": {},
   "outputs": [
    {
     "data": {
      "image/png": "[encoded data removed]",
      "text/plain": [
       "<Figure size 432x288 with 1 Axes>"
      ]
     },
     "metadata": {},
     "output_type": "display_data"
    }
   ],
   "source": [
    "# 그래프\n",
    "plt.plot(X_new, y_predict, \"r-\")\n",
    "plt.plot(X, y, \"b.\")\n",
    "plt.axis([0, 2, 0, 15])\n",
    "plt.show()"
   ]
  },
  {
   "cell_type": "code",
   "execution_count": 21,
   "metadata": {},
   "outputs": [
    {
     "data": {
      "text/plain": [
       "(array([3.88877303]), array([[3.07464694]]))"
      ]
     },
     "execution_count": 21,
     "metadata": {},
     "output_type": "execute_result"
    }
   ],
   "source": [
    "# 같은 작업을 하는 사이킷런 코드\n",
    "from sklearn.linear_model import LinearRegression\n",
    "\n",
    "lin_reg = LinearRegression()\n",
    "lin_reg.fit(X, y)\n",
    "lin_reg.intercept_, lin_reg.coef_"
   ]
  },
  {
   "cell_type": "code",
   "execution_count": 22,
   "metadata": {},
   "outputs": [
    {
     "data": {
      "text/plain": [
       "array([[ 3.88877303],\n",
       "       [10.03806691]])"
      ]
     },
     "execution_count": 22,
     "metadata": {},
     "output_type": "execute_result"
    }
   ],
   "source": [
    "lin_reg.predict(X_new)"
   ]
  },
  {
   "cell_type": "code",
   "execution_count": null,
   "metadata": {
    "collapsed": true
   },
   "outputs": [],
   "source": []
  }
 ],
 "metadata": {
  "kernelspec": {
   "display_name": "Python 3",
   "language": "python",
   "name": "python3"
  },
  "language_info": {
   "codemirror_mode": {
    "name": "ipython",
    "version": 3
   },
   "file_extension": ".py",
   "mimetype": "text/x-python",
   "name": "python",
   "nbconvert_exporter": "python",
   "pygments_lexer": "ipython3",
   "version": "3.6.3"
  }
 },
 "nbformat": 4,
 "nbformat_minor": 2
}
